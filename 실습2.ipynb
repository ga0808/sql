{
  "cells": [
    {
      "cell_type": "markdown",
      "metadata": {
        "id": "view-in-github",
        "colab_type": "text"
      },
      "source": [
        "<a href=\"https://colab.research.google.com/github/ga0808/sql/blob/main/%EC%8B%A4%EC%8A%B52.ipynb\" target=\"_parent\"><img src=\"https://colab.research.google.com/assets/colab-badge.svg\" alt=\"Open In Colab\"/></a>"
      ]
    },
    {
      "cell_type": "code",
      "execution_count": null,
      "metadata": {
        "id": "dt0ksHYW54eD"
      },
      "outputs": [],
      "source": [
        "#ddl, dml, dcl, tcl"
      ]
    },
    {
      "cell_type": "code",
      "execution_count": null,
      "metadata": {
        "id": "7OmTpa5s54eF"
      },
      "outputs": [],
      "source": [
        "#실습 1\n",
        "# 아래에 hire_date가 1997-07-07인 직원만 조회하는 쿼리를 작성해주세요.\n",
        "SELECT * FROM employees\n",
        "WHERE hire_date LIKE '1997-07-07';"
      ]
    },
    {
      "cell_type": "markdown",
      "metadata": {
        "id": "idMPGc3154eG"
      },
      "source": [
        "교안으로"
      ]
    },
    {
      "cell_type": "code",
      "execution_count": null,
      "metadata": {
        "id": "pvTHysYN54eH"
      },
      "outputs": [],
      "source": [
        "# 실습 2\n",
        "\n",
        "# 책들의 정보가 담겨있는 테이블의 구조를 조회합니다. 수정하실 필요는 없습니다.\n",
        "DESC book;\n",
        "\n",
        "# 아래에 제목이 The Little로 시작하는 책만 조회하는 쿼리를 작성해주세요.\n",
        "select * from book\n",
        "where title like 'The Little%';\n",
        "\n",
        "# 아래에 제목에 and가 포함된 책만 조회하는 쿼리를 작성해주세요.\n",
        "select * from book\n",
        "where title like '%and%';\n",
        "\n",
        "# 아래에 제목이 Rings로 끝나는 책만 조회하는 쿼리를 작성해주세요.\n",
        "select * from book\n",
        "where title like '%Rings';"
      ]
    },
    {
      "cell_type": "code",
      "execution_count": null,
      "metadata": {
        "id": "j2Ho9yEm54eH"
      },
      "outputs": [],
      "source": [
        "# 실습 3\n",
        "\n",
        "# 아래에 hire_date에 7이 들어가는 직원을 조회하는 쿼리를 작성해주세요.\n",
        "SELECT * FROM employees\n",
        "WHERE hire_date\n",
        "LIKE '%7%';"
      ]
    },
    {
      "cell_type": "code",
      "execution_count": null,
      "metadata": {
        "id": "ZcelYE8354eI"
      },
      "outputs": [],
      "source": [
        "# 퀴즈 1\n",
        "# LIKE"
      ]
    },
    {
      "cell_type": "markdown",
      "metadata": {
        "id": "I4UY7b2M54eI"
      },
      "source": [
        "교안으로"
      ]
    },
    {
      "cell_type": "code",
      "execution_count": null,
      "metadata": {
        "id": "GNfa4Ocs54eI"
      },
      "outputs": [],
      "source": [
        "# 실습 4 - ORDER RBY\n",
        "\n",
        "# book 테이블의 구조를 조회합니다. 수정하실 필요는 없습니다.\n",
        "DESC book;\n",
        "\n",
        "# book 테이블의 내용을 조회해 봅시다. 이때 책 제목을 기준으로 오름차순으로 조회해 봅시다.\n",
        "SELECT * FROM book\n",
        "ORDER BY title ASC;"
      ]
    },
    {
      "cell_type": "code",
      "execution_count": null,
      "metadata": {
        "id": "PDzmIV-d54eI"
      },
      "outputs": [],
      "source": [
        "# 실습 5 - ORDER BY2\n",
        "\n",
        "# salaries 테이블의 내용을 출력해 봅시다. 이때 연봉액 제목을 기준으로 오름차순으로 출력해 봅시다.\n",
        "SELECT * FROM salaries\n",
        "ORDER BY salary ASC;"
      ]
    },
    {
      "cell_type": "code",
      "execution_count": null,
      "metadata": {
        "id": "BoVJPUwA54eI"
      },
      "outputs": [],
      "source": [
        "#퀴즈2 - 2"
      ]
    },
    {
      "cell_type": "markdown",
      "metadata": {
        "id": "hx4OURXn54eI"
      },
      "source": [
        "교안으로"
      ]
    },
    {
      "cell_type": "code",
      "execution_count": null,
      "metadata": {
        "id": "vZqNgK6V54eJ"
      },
      "outputs": [],
      "source": [
        "#미션 3\n",
        "\n",
        "# 아래에 미션을 수행하는 코드를 작성해 봅시다.\n",
        "select * from shareholder\n",
        "order by stock desc;"
      ]
    },
    {
      "cell_type": "code",
      "execution_count": null,
      "metadata": {
        "id": "pUVJCp-X54eJ"
      },
      "outputs": [],
      "source": [
        "# update 실습 예씨\n",
        "#\n",
        "# # SELECT문을 이용해 book테이블을 조회하는 쿼리를 작성해주세요.\n",
        "\n",
        "INSERT INTO book\n",
        "VALUES(1010, \"a\", \"aa\", \"aaa\",\"2024-01-01\" );\n",
        "\n",
        "\n",
        "INSERT INTO book\n",
        "VALUES(1011, \"a\", \"bb\", \"bbb\",\"2024-01-01\" );\n",
        "\n",
        "UPDATE book\n",
        "SET title = \"a1\"\n",
        "WHERE title = \"a\"\n",
        ";\n",
        "\n",
        "\n",
        "SELECT * FROM book;\n"
      ]
    }
  ],
  "metadata": {
    "kernelspec": {
      "display_name": "Python 3.8.9 64-bit",
      "language": "python",
      "name": "python3"
    },
    "language_info": {
      "name": "python",
      "version": "3.8.9"
    },
    "orig_nbformat": 4,
    "vscode": {
      "interpreter": {
        "hash": "31f2aee4e71d21fbe5cf8b01ff0e069b9275f58929596ceb00d14d90e3e16cd6"
      }
    },
    "colab": {
      "provenance": [],
      "include_colab_link": true
    }
  },
  "nbformat": 4,
  "nbformat_minor": 0
}
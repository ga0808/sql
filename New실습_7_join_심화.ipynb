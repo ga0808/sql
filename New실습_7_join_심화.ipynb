{
  "nbformat": 4,
  "nbformat_minor": 0,
  "metadata": {
    "colab": {
      "provenance": [],
      "authorship_tag": "ABX9TyNqwTC0uExuYWvXYaQ6rdgY",
      "include_colab_link": true
    },
    "kernelspec": {
      "name": "python3",
      "display_name": "Python 3"
    },
    "language_info": {
      "name": "python"
    }
  },
  "cells": [
    {
      "cell_type": "markdown",
      "metadata": {
        "id": "view-in-github",
        "colab_type": "text"
      },
      "source": [
        "<a href=\"https://colab.research.google.com/github/ga0808/sql/blob/main/New%EC%8B%A4%EC%8A%B5_7_join_%EC%8B%AC%ED%99%94.ipynb\" target=\"_parent\"><img src=\"https://colab.research.google.com/assets/colab-badge.svg\" alt=\"Open In Colab\"/></a>"
      ]
    },
    {
      "cell_type": "code",
      "execution_count": null,
      "metadata": {
        "id": "qgzmT9IQE465"
      },
      "outputs": [],
      "source": [
        "#퀴즈1 - 등가 연산자\n",
        "#퀴즈2 - 2\n",
        "\n",
        "3.5시간\n",
        "-> 2시간 동안 (조인 내용 복습 + 조인 나머지 내용)\n",
        "(이제 심화 내용이면서 복습이니까 해당 내용들은\n",
        " - 4~5분씩 푸는 시간 주고 - 리뷰)\n",
        "-> 1.5시간 동안 (조인 심화 내용 또는 마무리)\n",
        "\n",
        "\n",
        "5시간\n",
        "-> 2시간 (조인 심화 + 서브 쿼리 심화 마무리)\n",
        "-> 3시간 동안 : 20문제  (5분풀고-5분 풀이 : 문제당 9분)"
      ]
    },
    {
      "cell_type": "code",
      "source": [
        "# 실습 1\n",
        "\n",
        "# -- 아래 쿼리는 EMPLOYEE, POSITION_T 테이블의 구조를 나타냅니다. 해당 테이블을 수정할 필요는 없습니다.\n",
        "DESC EMPLOYEE;\n",
        "DESC POSITION_T;\n",
        "\n",
        "# -- EMPLOYEE 테이블과 POSITION_T 테이블에 대해 POSITION_ID가 같은 데이터에 대해\n",
        "# -- 사원번호(EMPLOYEE_ID)와 이름(NAME), 직급명칭(POSITION_NAME)을 조회하는 쿼리를 작성해보세요.\n",
        "select employee_id, name, position_name\n",
        "from EMPLOYEE\n",
        "inner join POSITION_T\n",
        "on EMPLOYEE.position_id = POSITION_T.position_id\n",
        "order by employee_id asc;"
      ],
      "metadata": {
        "id": "J_PWKD9JFS1l"
      },
      "execution_count": null,
      "outputs": []
    },
    {
      "cell_type": "code",
      "source": [
        "# 실습 2\n",
        "# -- 아래 쿼리는 STORE, STORE_TYPE_CODE 테이블의 구조를 나타냅니다. 해당 테이블을 수정할 필요는 없습니다.\n",
        "DESC STORE;\n",
        "DESC STORE_TYPE_CODE;\n",
        "\n",
        "# -- STORE 테이블과 STORE_TYPE_CODE 테이블에 대해 store_type_code 컬럼을 이용하여 조인을 실시해,\n",
        "# -- 가게이름(store_name)과 타입이름(store_type_name)을 조회하는 쿼리를 작성해보세요.\n",
        "select store_name, store_type_name\n",
        "from STORE\n",
        "inner join STORE_TYPE_CODE\n",
        "on STORE.store_type_code = STORE_TYPE_CODE.store_type_code\n",
        "order by store_name;"
      ],
      "metadata": {
        "id": "bgp60nYVFSzn"
      },
      "execution_count": null,
      "outputs": []
    },
    {
      "cell_type": "code",
      "source": [
        "#실습 3\n",
        "# -- 아래 쿼리는 CLASS_REQUEST, STUDENT, CLASS 테이블의 구조를 나타냅니다. 해당 테이블을 수정할 필요는 없습니다.\n",
        "DESC CLASS_REQUEST;\n",
        "DESC STUDENT;\n",
        "DESC CLASS;\n",
        "\n",
        "\n",
        "# - USING\n",
        "# 코드 간결화: 동일한 이름의 컬럼을 결합할 때 USING을 사용하면 코드가 더 간결해집니다.\n",
        "# 명시적인 컬럼 중복 제거: USING을 사용하면 두 테이블에 같은 이름을 가진 컬럼이 있을 때, 결과에서 그 컬럼이 중복 출력되지 않습니다\n",
        "\n",
        "# 1. CLASS_REQUEST 테이블에 대해 JOIN절과 USING을 이용해 STUDENT테이블과 결합하여\n",
        "# 신청번호(REQUEST_ID)와 학생이름(STUDENT_NAME)을 조회하는 쿼리를 작성해보세요.\n",
        "select request_id, student_name\n",
        "from CLASS_REQUEST\n",
        "join STUDENT USING (STUDENT_ID)\n",
        "order by request_id;\n",
        "\n",
        "\n",
        "# 2. CLASS_REQUEST 테이블에 대해 JOIN절과 USING을 이용해 CLASS테이블과 결합하여\n",
        "# 신청번호(REQUEST_ID)와 과목이름(CLASS_NAME)을 조회하는 쿼리를 작성해보세요.\n",
        "select request_id, class_name from CLASS_REQUEST\n",
        "JOIN CLASS USING (CLASS_ID)\n",
        "order by request_id;\n",
        "\n",
        "\n",
        "# 3. CLASS_REQUEST 테이블에 대해 JOIN절과 USING을 이용해 STUDENT테이블, CLASS테이블과 결합하여\n",
        "# 신청번호(REQUEST_ID)와 학생이름(STUDENT_NAME), 과목이름(CLASS_NAME)을 조회하는 쿼리를 작성해보세요.\n",
        "select request_id, student_name, class_name from CLASS_REQUEST\n",
        "join STUDENT USING (STUDENT_ID)\n",
        "JOIN CLASS USING (class_id)\n",
        "order by request_id;"
      ],
      "metadata": {
        "id": "n-ZsWaJQFlbm"
      },
      "execution_count": null,
      "outputs": []
    },
    {
      "cell_type": "code",
      "source": [
        "#퀴즈3 - 2 natural join"
      ],
      "metadata": {
        "id": "XtdlgIX7P6xf"
      },
      "execution_count": null,
      "outputs": []
    },
    {
      "cell_type": "code",
      "source": [
        "#실습4\n",
        "# -- 아래 쿼리는 LOGIN_HISTORY, MEMBER 테이블의 구조를 나타냅니다. 해당 테이블을 수정할 필요는 없습니다.\n",
        "DESC LOGIN_HISTORY;\n",
        "DESC MEMBER;\n",
        "\n",
        "#NATURAL JOIN\n",
        "# 컬럼명 및 자료형이 같은 데이터들 자동으로 찾아서\n",
        "# 그 컬럼들 기준으로 테이블 조인\n",
        "\n",
        "\n",
        "# -- LOGIN_HISTORY테이블과 MEMBER테이블에 대해 NATURAL JOIN을 이용하여 조회하고자 하는 컬럼을 출력해보세요.\n",
        "select login_history_id, member_name, member_email, login_date\n",
        "#컬럼 *로 해보면 중복되는 멤버_아이디 중복되어서 한번 빼고 컬럼 5개 조회됨\n",
        "from LOGIN_HISTORY\n",
        "NATURAL JOIN MEMBER\n",
        "order by login_history_id;"
      ],
      "metadata": {
        "id": "NekDwxnhFlZP"
      },
      "execution_count": null,
      "outputs": []
    },
    {
      "cell_type": "code",
      "source": [
        "#실습 5\n",
        "\n",
        "# -- 아래 쿼리는 FIRST_NAME_T, LAST_NAME_T 테이블의 구조를 나타냅니다. 해당 테이블을 수정할 필요는 없습니다.\n",
        "DESC FIRST_NAME_T;\n",
        "DESC LAST_NAME_T;\n",
        "\n",
        "# -- FIRST_NAME_T와 LAST_NAME_T를 크로스조인으로 결합하고, first_name과 last_name을 출력하세요.\n",
        "select first_name, last_name\n",
        "from FIRST_NAME_T\n",
        "cross join LAST_NAME_T\n",
        "order by first_name asc, last_name asc;\n"
      ],
      "metadata": {
        "id": "vFnXQOwxFlW-"
      },
      "execution_count": null,
      "outputs": []
    },
    {
      "cell_type": "code",
      "source": [
        "# 실습 6\n",
        "# -- 아래 쿼리는 MEMBER, MEMBER_EMAIL 테이블의 구조를 나타냅니다. 해당 테이블을 수정할 필요는 없습니다.\n",
        "DESC MEMBER;\n",
        "DESC MEMBER_EMAIL;\n",
        "\n",
        "#left vs left outer join 차이 없음\n",
        "\n",
        "# -- MEMBER테이블과 MEMBER_EMAIL테이블에 대해 LEFT OUTER JOIN을 사용하여\n",
        "# -- member_name과 email을 결합하여 출력하세요.\n",
        "select member_name, email\n",
        "from MEMBER\n",
        "left outer join MEMBER_EMAIL on MEMBER.member_id = MEMBER_EMAIL.member_id\n",
        "order by member_name;"
      ],
      "metadata": {
        "id": "xKfhdop8Qrjr"
      },
      "execution_count": null,
      "outputs": []
    },
    {
      "cell_type": "code",
      "source": [
        "#실습 7\n",
        "\n",
        "-- 아래 쿼리는 RESPONSE_DTL, REQUEST 테이블의 구조를 나타냅니다. 해당 테이블을 수정할 필요는 없습니다.\n",
        "DESC RESPONSE_DTL;\n",
        "DESC REQUEST;\n",
        "\n",
        "-- RESPONSE_DTL테이블을 기준으로 REQUEST테이블과 RIGHT OUTER JOIN을 실시하는 쿼리를 작성해보세요.\n",
        "select request_id, request_member_id, response_content\n",
        "from RESPONSE_DTL\n",
        "RIGHT OUTER JOIN REQUEST ON RESPONSE_DTL.response_id = REQUEST.response_id\n",
        "order by request_id;"
      ],
      "metadata": {
        "id": "ykQ-ClcvQrhT"
      },
      "execution_count": null,
      "outputs": []
    },
    {
      "cell_type": "code",
      "source": [
        "#실습 8\n",
        "-- 아래 쿼리는 FRONT_VERSION_HIST, BACK_VERSION_HIST 테이블의 구조를 나타냅니다. 해당 테이블을 수정할 필요는 없습니다.\n",
        "DESC FRONT_VERSION_HIST;\n",
        "DESC BACK_VERSION_HIST;\n",
        "\n",
        "#full outer join\n",
        "#일치하는 행은 하나의 행으로 합치고\n",
        "#오른쪽이나 왼쪽이나 하나의 테이블에만 있다 하더라도\n",
        "#그 행은 왼쪽 또는 오른쪽 컬럼들 null 채워서 가져옴\n",
        "\n",
        "# 1. FRONT_VERSION_HIST 테이블을 기준으로 BACK_VERSION_HIST 테이블과 버전ID로 LEFT OUTER JOIN을 해주세요.\n",
        "#일치하는 행 합치고 + 왼쪽에만 있으면 오른쪽 컬럼들은 null 채워서 반영 + 오른쪽에만 있으면 버림\n",
        "select FRONT_VERSION_HIST.version_id, version_content_front, version_content_back\n",
        "from FRONT_VERSION_HIST\n",
        "LEFT OUTER JOIN BACK_VERSION_HIST\n",
        "on FRONT_VERSION_HIST.version_id = BACK_VERSION_HIST.version_id\n",
        "order by version_id;\n",
        "\n",
        "# 2. FRONT_VERSION_HIST 테이블을 기준으로 BACK_VERSION_HIST 테이블과 버전ID로 RIGHT OUTER JOIN을 해주세요.\n",
        "#일치하는 행 합치고 + 왼쪽에만 있으면 버림 +  오른쪽에만 있으면 왼쪽 컬럼들은 null 채워서 반영\n",
        "select BACK_VERSION_HIST.version_id, version_content_front, version_content_back\n",
        "from FRONT_VERSION_HIST\n",
        "RIGHT OUTER JOIN BACK_VERSION_HIST\n",
        "on FRONT_VERSION_HIST.version_id = BACK_VERSION_HIST.version_id\n",
        "order by version_id;\n",
        "\n",
        "# 3. 위에서 작성한 두 쿼리에서 ORDER BY를 제거 후, 중복을 제거하는 집합연산자로 결합하고 최종 결과에 대해 정렬을 해주세요.\n",
        "#위 두 결과를 합치면서 + 일치하는 행은 2개씩 있을테니 중복제거하고자함\n",
        "# > union 집합연산자 사용하고자 함\n",
        "#   join 연산은 컬럼을 합치는 행위\n",
        "#   집합 연산자는 행을 합치는 행위할 때 사용\n",
        "#집합연산자 중 union은 두 테이블을 행 단위로 합치는데, 중복을 제거하고 합침\n",
        "select FRONT_VERSION_HIST.version_id, version_content_front, version_content_back\n",
        "from FRONT_VERSION_HIST\n",
        "LEFT OUTER JOIN BACK_VERSION_HIST\n",
        "on FRONT_VERSION_HIST.version_id = BACK_VERSION_HIST.version_id\n",
        "UNION\n",
        "select BACK_VERSION_HIST.version_id, version_content_front, version_content_back\n",
        "from FRONT_VERSION_HIST\n",
        "RIGHT OUTER JOIN BACK_VERSION_HIST\n",
        "on FRONT_VERSION_HIST.version_id = BACK_VERSION_HIST.version_id\n",
        "order by version_id;"
      ],
      "metadata": {
        "id": "4tJu13PbQre9"
      },
      "execution_count": null,
      "outputs": []
    },
    {
      "cell_type": "code",
      "source": [
        "# # 퀴즈 4 - 1\n",
        "# OUTER JOIN에서 (+) 기호를 사용하여 표현하는 경우, (+)가 있는 반대쪽 테이블의 모든 데이터를 출력합니다.\n",
        "# 즉, 문제에서의 쿼리에서 좌측에 (+) 기호가 붙어있으므로 RIGHT OUTER JOIN 방식이라고 생각할 수 있습니다."
      ],
      "metadata": {
        "id": "bC7XnpCBFk55"
      },
      "execution_count": null,
      "outputs": []
    },
    {
      "cell_type": "code",
      "source": [
        "#실습 9\n",
        "#아래 쿼리는 REQUEST_HIST, MEMBER 테이블의 구조를 나타냅니다. 해당 테이블을 수정할 필요는 없습니다.\n",
        "DESC REQUEST_HIST;\n",
        "DESC MEMBER;\n",
        "\n",
        "#REQUEST_HIST 테이블과 MEMBER 테이블을 INNER JOIN하여 조회하되,\n",
        "#요청상태(req_status)가 fail인 정보만 조회하는 쿼리를 작성하세요. > where 조건\n",
        "select request_id, req_status, member_name\n",
        "from REQUEST_HIST\n",
        "INNER join MEMBER\n",
        "on REQUEST_HIST.req_member_id = MEMBER.member_id\n",
        "where req_status = 'fail'\n",
        "order by request_id;"
      ],
      "metadata": {
        "id": "-NgMfbgjFSxm"
      },
      "execution_count": null,
      "outputs": []
    },
    {
      "cell_type": "code",
      "source": [
        "#실습 10\n",
        "# 아래 쿼리는 APPLICATION, APPLICATION_DTL 테이블의 구조를 나타냅니다. 해당 테이블을 수정할 필요는 없습니다.\n",
        "DESC APPLICATION;\n",
        "DESC APPLICATION_DTL;\n",
        "\n",
        "# APPLICATION 테이블과 APPLICATION_DTL 테이블에 대해 app_id를 기준으로 INNER JOIN을 실시하되\n",
        "# app_device의 값이 (iphone 또는 all)인 데이터에 대해서 조회하는 쿼리를 작성하세요.\n",
        "select APPLICATION.app_id, app_name, app_content\n",
        "from APPLICATION\n",
        "inner join APPLICATION_DTL\n",
        "on APPLICATION.app_id = APPLICATION_DTL.app_id\n",
        "where app_device in ('iphone', 'all')\n",
        "#where app_device = 'iphone' or app_device ='all'   (or로 해도 되겠지만)\n",
        "order by APPLICATION.app_id asc;"
      ],
      "metadata": {
        "id": "yq9U9_dbUQWA"
      },
      "execution_count": null,
      "outputs": []
    },
    {
      "cell_type": "code",
      "source": [
        "#실습 11\n",
        "\n",
        "# 아래 쿼리는 AIR_ROUTE, AIRPLANE 테이블의 구조를 나타냅니다. 해당 테이블을 수정할 필요는 없습니다.\n",
        "DESC AIR_ROUTE;\n",
        "DESC AIRPLANE;\n",
        "\n",
        "# AIR_ROUTE테이블과 AIRPLANE테이블에 대해 route_id가 동일하고 > 조인\n",
        "#경로 FROM(route_from)이  Korea로 시작하는 데이터 > 조건\n",
        "select route_from, route_to, airplane_id\n",
        "from AIR_ROUTE\n",
        "left OUTER JOIN AIRPLANE\n",
        "on AIR_ROUTE.route_id = AIRPLANE.route_id\n",
        "where route_from = 'Korea'\n",
        "order by airplane_id ASC;\n",
        "\n",
        "    # Korea에서 출발하는 경로에 대해 운행 가능한 비행기 ID를 함께 출력\n",
        "    # 우리가 가지고 있는 데이터 테이블에서\n",
        "    # 루트에 대한건 AIR_ROUTE 테이블 , 비행기 아이디와 루트 아이디는 있는데 from-to에 대한 경로 테이블에 없는 경우 있나봄\n",
        "      #그래서 오른쪽에 모든 airplane_id에 대한 route_id는 필요 없음\n",
        "      # 때문에 기준이 되는 테이블이 AIR_ROUTE"
      ],
      "metadata": {
        "id": "hJCVke8JUQSf"
      },
      "execution_count": null,
      "outputs": []
    },
    {
      "cell_type": "code",
      "source": [
        "#퀴즈 5 -3\n",
        "#퀴즈6 - union"
      ],
      "metadata": {
        "id": "QEBujbxRUQMg"
      },
      "execution_count": null,
      "outputs": []
    },
    {
      "cell_type": "code",
      "source": [
        "#퀴즈7 - 별칭"
      ],
      "metadata": {
        "id": "dRtgfApQWy8q"
      },
      "execution_count": null,
      "outputs": []
    },
    {
      "cell_type": "code",
      "source": [
        "#실습12 - 교안에 없다면, 파워 포인트 그리는게 어떠한가?\n",
        "# 아래 쿼리는 EMPLOYEE 테이블의 구조를 나타냅니다. 해당 테이블을 수정할 필요는 없습니다.\n",
        "DESC EMPLOYEE;\n",
        "\n",
        "# EMPLOYEE 테이블을 SELF JOIN하여 사원ID, 사원이름, 관리자이름을 조회하는 쿼리를 작성해보세요.\n",
        "select A.employee_id, A.employee_name, B.employee_name\n",
        "from EMPLOYEE A, EMPLOYEE B\n",
        "where A.manager_id = B.employee_id\n",
        "#A직원의 상사 정보(manager_id)로 A=B에서 직원 정보로 찾음\n",
        "#그러면 A,B같은 테이블 정보지만\n",
        "#A로는 직원의 정보(사원ID, 사원이름, 관리자이름), B로는 직원의 관리자의 정보(사원ID, 사원이름, 관리자의 관리자이름)\n",
        "#의 의미로 데이터가 조회됨\n",
        "order by A.employee_id;"
      ],
      "metadata": {
        "id": "ZSfElLG_Wy-y"
      },
      "execution_count": null,
      "outputs": []
    },
    {
      "cell_type": "code",
      "source": [
        "#미션1\n",
        "# 1. MEMBER 테이블과 MEMBER_DTL 테이블에 대해서 JOIN 구문을 활용해, 멤버ID, 멤버이름, 멤버등급을 출력해주세요.\n",
        "\n",
        "\n",
        "#MEMBER :  고객 ID, 고객 이름\n",
        "#MEMBER_DTL : 고객 ID , 등급정보\n",
        "#전산상의 오류로 고객 등급이 저장되어 있지 않은 고객의 정보도 함께 출력\n",
        "#=MEMBER_DTL에 없어도, MEMBER에 있는 데이터는 모두 가져오자\n",
        "SELECT MEMBER.member_id, member_name, member_grade\n",
        "from MEMBER\n",
        "LEFT OUTER JOIN MEMBER_DTL\n",
        "on MEMBER.member_id = MEMBER_DTL.member_id\n",
        "ORDER BY MEMBER.member_id;\n",
        "\n",
        "# 2. 위의 쿼리에 대해서 등급이 없거나, BRONZE등급인 고객만 출력하는 쿼리를 작성해주세요.\n",
        "SELECT MEMBER.member_id, member_name, member_grade\n",
        "from MEMBER\n",
        "LEFT OUTER JOIN MEMBER_DTL\n",
        "on MEMBER.member_id = MEMBER_DTL.member_id\n",
        "WHERE member_grade = 'BRONZE'\n",
        "OR member_grade IS NULL\n",
        "ORDER BY MEMBER.member_id;"
      ],
      "metadata": {
        "id": "QjRRYxP6W6u0"
      },
      "execution_count": null,
      "outputs": []
    },
    {
      "cell_type": "code",
      "source": [
        "#미션2\n",
        "\n",
        "#구매한 코인에 대해서, 코인 이름과 코인 구입 가격, 코인의 현재 가격을 출력하는 쿼리\n",
        "#ELICE_WALLET : 투자한 코인 정보\n",
        "#EXCHANGE : (투자 하지 않았더라도 존재하는)코인들의 현재 가격 정보\n",
        "# ELICE_WALLET테이블과 EXCHANGE테이블을 결합하여 코인이름, 코인구입가격, 코인현재가격을 출력해주세요.\n",
        "select coin_name, coin_buy_price, coin_now_price\n",
        "from ELICE_WALLET\n",
        "inner join EXCHANGE #의미상 left 또는 inner\n",
        "on ELICE_WALLET.coin_ticker = EXCHANGE.coin_ticker\n",
        "order by coin_name;"
      ],
      "metadata": {
        "id": "kfcIgPrvW6sV"
      },
      "execution_count": null,
      "outputs": []
    },
    {
      "cell_type": "code",
      "source": [
        "# 미션3 - 셀프조인\n",
        "\n",
        "#EMPLOYEE :  직원 ID, 직원 이름, 급여, 관리자 id를 저장\n",
        "#상사급여보다 자신의 급여가 높은 직원을 조회\n",
        "#모두 한 테이블에 정보 존재하기 때문에, 셀프 조인 활용하여 진행\n",
        "\n",
        "#EMPLOYEE 테이블에 대해 셀프조인을 활용하여 상사급여보다 자신의 급여가 높은 직원을 조회해봅시다.\n",
        "select a.employee_id, a.name, a.salary, b.name, b.salary\n",
        "#a로는 직원 #b로는 a에서 조회한 직원의 관리자의 (직원) 정보\n",
        "from EMPLOYEE a\n",
        "INNER JOIN EMPLOYEE b\n",
        "ON a.manager_id = b.employee_id\n",
        "#같은 테이블이지만 a로는 (직원 ID, 직원 이름, 급여, 관리자 id)\n",
        "# b로는 해당 관리자의 (직원 ID, 직원 이름, 급여, 관리자 id)\n",
        "where a.salary > b.salary #직원 연봉 > 해당 직원의 관리자 연봉\n",
        "order by a.employee_id;\n",
        "\n"
      ],
      "metadata": {
        "id": "1OHsFtgcW9GZ"
      },
      "execution_count": null,
      "outputs": []
    },
    {
      "cell_type": "code",
      "source": [],
      "metadata": {
        "id": "85nmH-AT5z-L"
      },
      "execution_count": null,
      "outputs": []
    },
    {
      "cell_type": "code",
      "source": [],
      "metadata": {
        "id": "wTfjtC-g5z7u"
      },
      "execution_count": null,
      "outputs": []
    },
    {
      "cell_type": "code",
      "source": [],
      "metadata": {
        "id": "71WRbKqs5z5W"
      },
      "execution_count": null,
      "outputs": []
    }
  ]
}
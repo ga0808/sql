{
  "cells": [
    {
      "cell_type": "markdown",
      "metadata": {
        "id": "view-in-github",
        "colab_type": "text"
      },
      "source": [
        "<a href=\"https://colab.research.google.com/github/ga0808/sql/blob/main/New%EC%8B%A4%EC%8A%B53.ipynb\" target=\"_parent\"><img src=\"https://colab.research.google.com/assets/colab-badge.svg\" alt=\"Open In Colab\"/></a>"
      ]
    },
    {
      "cell_type": "code",
      "execution_count": null,
      "metadata": {
        "id": "EPX653b5Ub_j"
      },
      "outputs": [],
      "source": [
        "# 퀴즈 1 - 3"
      ]
    },
    {
      "cell_type": "code",
      "execution_count": null,
      "metadata": {
        "id": "pUlOF4cpUb_h"
      },
      "outputs": [],
      "source": [
        "# 실습 1\n",
        "\n",
        "# 아래에 book테이블의 자료의 수와 user테이블의 자료의 수를 차례대로 조회해 봅시다.\n",
        "SELECT COUNT(*)\n",
        "FROM book;\n",
        "# COUNT(*) - 모든 행의 수 (null 여부 안따짐)\n",
        "# COUNT(title) - title 컬럼에서 null 제외한 행의 수\n",
        "\n",
        "SELECT COUNT(*)\n",
        "FROM user;"
      ]
    },
    {
      "cell_type": "code",
      "execution_count": null,
      "metadata": {
        "id": "MiJQ8GyhUb_j"
      },
      "outputs": [],
      "source": [
        "# 실습 2\n",
        "\n",
        "# employees테이블의 자료의 수를 조회해 봅시다.\n",
        "SELECT COUNT(*)\n",
        "FROM employees;"
      ]
    },
    {
      "cell_type": "markdown",
      "metadata": {
        "id": "Rjk1SXuTUb_j"
      },
      "source": [
        "교안으로"
      ]
    },
    {
      "cell_type": "code",
      "execution_count": null,
      "metadata": {
        "id": "DjZxazfMUb_l"
      },
      "outputs": [],
      "source": [
        "# 퀴즈 2 - 1\n",
        "#행의 수를 컨트롤 하는 조건같은 친구 > 맨 끝에 따로 명시"
      ]
    },
    {
      "cell_type": "code",
      "execution_count": null,
      "metadata": {
        "id": "EIGv4ttdUb_k"
      },
      "outputs": [],
      "source": [
        "# 실습 3\n",
        "\n",
        "# book테이블의 모든 컬럼을 조회해 봅시다. 단 5권만 잘라서 출력해야 합니다.\n",
        "select * from book\n",
        "limit 5;"
      ]
    },
    {
      "cell_type": "code",
      "execution_count": null,
      "metadata": {
        "id": "fIvh30zzUb_k"
      },
      "outputs": [],
      "source": [
        "# 실습 4\n",
        "\n",
        "# salaries테이블의 모든 컬럼을 조회해 봅시다. 단 5개만 잘라서 출력해야 합니다.\n",
        "SELECT * FROM salaries\n",
        "LIMIT 5;"
      ]
    },
    {
      "cell_type": "markdown",
      "metadata": {
        "id": "aq5IwEfsUb_l"
      },
      "source": []
    },
    {
      "cell_type": "code",
      "execution_count": null,
      "metadata": {
        "id": "qIz6b-C_Ub_m"
      },
      "outputs": [],
      "source": [
        "# 퀴즈3 - 1"
      ]
    },
    {
      "cell_type": "code",
      "execution_count": null,
      "metadata": {
        "id": "VcLe4aGRUb_l"
      },
      "outputs": [],
      "source": [
        "# 실습 5\n",
        "\n",
        "# salary테이블의 연봉의 합을 구해봅시다.\n",
        "SELECT SUM(salary)\n",
        "FROM salaries\n",
        ";"
      ]
    },
    {
      "cell_type": "code",
      "execution_count": null,
      "metadata": {
        "id": "DhQZxo6oUb_l"
      },
      "outputs": [],
      "source": [
        "# 실습 6\n",
        "# 학생들의 성적이 담겨있는 테이블의 구조를 조회합니다. 수정하실 필요는 없습니다.\n",
        "DESC grade\n",
        ";\n",
        "\n",
        "# 학생들의 성적의 평균을 조회합니다.\n",
        "SELECT avg(korean), avg(english), avg(math)\n",
        "FROM grade\n",
        ";"
      ]
    },
    {
      "cell_type": "code",
      "execution_count": null,
      "metadata": {
        "id": "t8BxoY0mUb_l"
      },
      "outputs": [],
      "source": [
        "# 실습 7\n",
        "# salary테이블의 연봉의 평균을 구해봅시다.\n",
        "SELECT AVG(salary)\n",
        "FROM salaries;"
      ]
    },
    {
      "cell_type": "markdown",
      "metadata": {
        "id": "t-CrQHg_Ub_m"
      },
      "source": [
        "교안으로"
      ]
    },
    {
      "cell_type": "code",
      "execution_count": null,
      "metadata": {
        "id": "0nZcHCZ3Ub_m"
      },
      "outputs": [],
      "source": [
        "# 퀴즈4 - 2"
      ]
    },
    {
      "cell_type": "code",
      "execution_count": null,
      "metadata": {
        "id": "MSavl76pUb_m"
      },
      "outputs": [],
      "source": [
        "# 실습 8\n",
        "\n",
        "# 학생들의 성적이 담겨있는 테이블의 구조를 조회합니다. 수정하실 필요는 없습니다.\n",
        "DESC student;\n",
        "\n",
        "# 가장 높은 국어성적을 조회합니다.\n",
        "SELECT max(korean)\n",
        "FROM student;\n",
        "\n",
        "#   문자열 A<Z<a<z"
      ]
    },
    {
      "cell_type": "code",
      "execution_count": null,
      "metadata": {
        "id": "gi-fQX2OUb_m"
      },
      "outputs": [],
      "source": [
        "# 실습 9\n",
        "\n",
        "#가장 많은 연봉액을 구해봅시다.\n",
        "SELECT MAX(salary)\n",
        "FROM salaries;"
      ]
    },
    {
      "cell_type": "code",
      "execution_count": null,
      "metadata": {
        "id": "TX9aNc9CUb_m"
      },
      "outputs": [],
      "source": [
        "# 실습 10\n",
        "\n",
        "# 가장 적은 연봉액을 구해봅시다.\n",
        "SELECT MIN(salary)\n",
        "FROM salaries;"
      ]
    },
    {
      "cell_type": "code",
      "execution_count": null,
      "metadata": {
        "id": "LgEg9XpCUb_m"
      },
      "outputs": [],
      "source": [
        "# 미션 1 : 가게 db\n",
        "\n",
        "# 아래에 미션을 수행하는 쿼리를 작성해 보세요.\n",
        "#1.\n",
        "select count(*) from product;\n",
        "\n",
        "#2.\n",
        "select sum(stock) from product;\n",
        "\n",
        "#3.\n",
        "select max(selling_price) from product;"
      ]
    },
    {
      "cell_type": "code",
      "execution_count": null,
      "metadata": {
        "id": "f9UWGbnDUb_m"
      },
      "outputs": [],
      "source": [
        "# 미션 2 : 평균 구하기\n",
        "# -- 지시사항을 만족하는 쿼리를 작성해보세요.\n",
        "SELECT AVG(math), AVG(eng)\n",
        "FROM test;"
      ]
    },
    {
      "cell_type": "code",
      "execution_count": null,
      "metadata": {
        "id": "Wtp2aBPTUb_n"
      },
      "outputs": [],
      "source": []
    },
    {
      "cell_type": "code",
      "execution_count": null,
      "metadata": {
        "id": "ds6b8p6CUb_n"
      },
      "outputs": [],
      "source": []
    }
  ],
  "metadata": {
    "kernelspec": {
      "display_name": "Python 3.8.9 64-bit",
      "language": "python",
      "name": "python3"
    },
    "language_info": {
      "name": "python",
      "version": "3.8.9"
    },
    "orig_nbformat": 4,
    "vscode": {
      "interpreter": {
        "hash": "31f2aee4e71d21fbe5cf8b01ff0e069b9275f58929596ceb00d14d90e3e16cd6"
      }
    },
    "colab": {
      "provenance": [],
      "include_colab_link": true
    }
  },
  "nbformat": 4,
  "nbformat_minor": 0
}
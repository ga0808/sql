{
  "cells": [
    {
      "cell_type": "markdown",
      "metadata": {
        "id": "view-in-github",
        "colab_type": "text"
      },
      "source": [
        "<a href=\"https://colab.research.google.com/github/ga0808/sql/blob/main/New%EC%8B%A4%EC%8A%B52.ipynb\" target=\"_parent\"><img src=\"https://colab.research.google.com/assets/colab-badge.svg\" alt=\"Open In Colab\"/></a>"
      ]
    },
    {
      "cell_type": "code",
      "execution_count": null,
      "metadata": {
        "id": "tsqS5Yx7J3lZ"
      },
      "outputs": [],
      "source": [
        "#ddl, dml, dcl, tcl"
      ]
    },
    {
      "cell_type": "code",
      "execution_count": null,
      "metadata": {
        "id": "Mc0Gu2UXJ3lb"
      },
      "outputs": [],
      "source": [
        "#실습 1\n",
        "# 아래에 hire_date가 1997-07-07인 직원만 조회하는 쿼리를 작성해주세요.\n",
        "SELECT * FROM employees\n",
        "WHERE hire_date LIKE '1997-07-07';\n",
        "\n",
        "#팁 얘기는 안다루고 넘어가기 !!!!!\n",
        "#소문자 > 대문자 순으로 조회 진행한다는 얘기 - 틀린 것 같음\n",
        "\n",
        "\n",
        "#like는 DBMS마다 조회가 달라지는데 - mysql/mariadb는 대소문자 구분 안하고, oracle은 함\n",
        "#이름 컬럼에서 'john', 'John', 'JOHN' 데이터가 있는데 - 'john'을 조회한다면"
      ]
    },
    {
      "cell_type": "markdown",
      "metadata": {
        "id": "Z_FDlmHSJ3lc"
      },
      "source": [
        "교안으로"
      ]
    },
    {
      "cell_type": "code",
      "execution_count": null,
      "metadata": {
        "id": "7uS_Tip9J3lc"
      },
      "outputs": [],
      "source": [
        "# 실습 2\n",
        "\n",
        "# 책들의 정보가 담겨있는 테이블의 구조를 조회합니다. 수정하실 필요는 없습니다.\n",
        "DESC book;\n",
        "\n",
        "# 아래에 제목이 The Little로 시작하는 책만 조회하는 쿼리를 작성해주세요.\n",
        "select * from book\n",
        "where title like 'The Little%';\n",
        "\n",
        "# 아래에 제목에 and가 포함된 책만 조회하는 쿼리를 작성해주세요.\n",
        "select * from book\n",
        "where title like '%and%';\n",
        "\n",
        "# 아래에 제목이 Rings로 끝나는 책만 조회하는 쿼리를 작성해주세요.\n",
        "select * from book\n",
        "where title like '%Rings';"
      ]
    },
    {
      "cell_type": "code",
      "execution_count": null,
      "metadata": {
        "id": "xWR5J9xMJ3ld"
      },
      "outputs": [],
      "source": [
        "# 실습 3\n",
        "\n",
        "# 아래에 hire_date에 7이 들어가는 직원을 조회하는 쿼리를 작성해주세요.\n",
        "SELECT * FROM employees\n",
        "WHERE hire_date\n",
        "LIKE '%7%';"
      ]
    },
    {
      "cell_type": "markdown",
      "metadata": {
        "id": "bbs01vTWJ3ld"
      },
      "source": [
        "교안으로"
      ]
    },
    {
      "cell_type": "code",
      "execution_count": null,
      "metadata": {
        "id": "TdL0fqxBJ3le"
      },
      "outputs": [],
      "source": [
        "#퀴즈2 - 2"
      ]
    },
    {
      "cell_type": "code",
      "execution_count": null,
      "metadata": {
        "id": "t2dfQz8wJ3le"
      },
      "outputs": [],
      "source": [
        "# 실습 4 - ORDER BY\n",
        "\n",
        "# book 테이블의 구조를 조회합니다. 수정하실 필요는 없습니다.\n",
        "DESC book;\n",
        "\n",
        "# book 테이블의 내용을 조회해 봅시다. 이때 책 제목을 기준으로 오름차순으로 조회해 봅시다.\n",
        "SELECT * FROM book\n",
        "ORDER BY title ASC;"
      ]
    },
    {
      "cell_type": "code",
      "execution_count": null,
      "metadata": {
        "id": "yozBPIA5J3le"
      },
      "outputs": [],
      "source": [
        "# 실습 5 - ORDER BY2\n",
        "\n",
        "# salaries 테이블의 내용을 출력해 봅시다. 이때 연봉액 제목을 기준으로 오름차순으로 출력해 봅시다.\n",
        "SELECT * FROM salaries\n",
        "ORDER BY salary ASC;"
      ]
    },
    {
      "cell_type": "code",
      "source": [
        "#퀴즈3 - 1"
      ],
      "metadata": {
        "id": "sOuG-dv5PqqG"
      },
      "execution_count": null,
      "outputs": []
    },
    {
      "cell_type": "code",
      "source": [
        "#실습 6\n",
        "#INSERT문을 이용해 쿼리를 작성해 보세요.\n",
        "\n",
        "# INSERT INTO 테이블명(컬럼명들)\n",
        "# VALUES(명시한 컬럼 순서대로 값)\n",
        "\n",
        "# INSERT INTO 테이블명\n",
        "# VALUES(테이블 컬럼 순서대로 값)\n",
        "\n",
        "\n",
        "\n",
        "INSERT INTO employees\n",
        "VALUES(10001, '1953-09-02', 'Georgi', 'Facello', 'M', '1986-06-26', NULL)\n",
        ";\n",
        "\n",
        "#값을 잘 넣었는지 확인하는 코드입니다. 수정하지마세요!\n",
        "SELECT * FROM employees\n",
        ";\n",
        "\n",
        "\n",
        "#만약에 - 특정 컬럼만 값을 명시해서 삽입하게 된다면?\n",
        "#정의한 테이블 구조마다 다름\n",
        "#만약 값이 없을때 설정된 기본값이 있다면 기본값으로 삽입됨\n",
        "#그러나 만약 삽입하지 않은 컬럼이 설정된 기본값도 없는데, null을 허용하지 않을 경우에 에러 날 수 있음\n"
      ],
      "metadata": {
        "id": "7NldHljLPpS1"
      },
      "execution_count": null,
      "outputs": []
    },
    {
      "cell_type": "code",
      "source": [
        "#퀴즈 4 - UPDATE"
      ],
      "metadata": {
        "id": "CzEkMSrHQDlz"
      },
      "execution_count": null,
      "outputs": []
    },
    {
      "cell_type": "code",
      "source": [
        "#실습7 - 수정하기\n",
        "#대출 반납의 정보가 담긴 테이블의 구조를 조회합니다. 수정하실 필요는 없습니다.\n",
        "DESC rental;\n",
        "\n",
        "#반납 시간을 수정하는 쿼리를 작성해 보세요.\n",
        "# UPDATE 테이블명\n",
        "# SET 변경할 컬럼 = 변경할 값\n",
        "# WHERE 변경을 수행할 값(행)들에 대한 조건;\n",
        "\n",
        "\n",
        "UPDATE rental\n",
        "SET rental_end_date = '2019-04-05 12:00:30'\n",
        "WHERE user_id = 1000;\n",
        "\n",
        "# 대출 반납 상태를 조회합니다. 반납시간이 올바르게 추가되었는지는 실행버튼을 통해 확인할 수 있습니다.\n",
        "SELECT * FROM rental;"
      ],
      "metadata": {
        "id": "hw048_5pQDje"
      },
      "execution_count": null,
      "outputs": []
    },
    {
      "cell_type": "code",
      "source": [
        "#실습8 - 풀어보세요\n",
        "#UPDATE문을 이용해 쿼리를 작성해 보세요.\n",
        "UPDATE employees\n",
        "SET birth_date = '1953-09-01'\n",
        "WHERE emp_no = 10001;\n",
        "\n",
        "#값을 잘 수정했는지 확인하는 코드입니다. 수정하지마세요!\n",
        "SELECT * FROM employees;"
      ],
      "metadata": {
        "id": "7zxvJYCoQDg_"
      },
      "execution_count": null,
      "outputs": []
    },
    {
      "cell_type": "code",
      "source": [
        "# 퀴즈 5 - DELETE"
      ],
      "metadata": {
        "id": "6cdKIWt-QDeb"
      },
      "execution_count": null,
      "outputs": []
    },
    {
      "cell_type": "code",
      "source": [
        "#실습 9\n",
        "# -- 잃어버린 책 2권을 book 테이블에서 삭제하여 봅시다.\n",
        "# DELETE from 테이블명\n",
        "# WHERE 삭제하고자 하는 데이터 (행) 조건;\n",
        "\n",
        "DELETE from book\n",
        "WHERE title = 'Harry Potter and the Philosopher\\'s Stone';\n",
        "#역슬래시(\\) 필요 !\n",
        "#-> 기존에 '(따옴표)가 문자열을 뜻하는 문법을 가지고 있는 문자이기 때문에\n",
        "#   데이터 내 문자 자체로 따옴표를 쓰려면\n",
        "#   특수한 문법이 있는 문자가 아닌 데이터라고 명시를 해줘야함\n",
        "\n",
        "DELETE from book\n",
        "WHERE where title = 'The Lord of the Rings';\n",
        "\n",
        "# -- 전체 책의 정보와 회원정보를 조회합니다. 수정하실 필요는 없습니다.\n",
        "SELECT * FROM book;"
      ],
      "metadata": {
        "id": "eITXK4IIUvJ0"
      },
      "execution_count": null,
      "outputs": []
    },
    {
      "cell_type": "code",
      "source": [
        "#실습 10 - 직접\n",
        "# DELETE문을 이용해 쿼리를 작성해 보세요.\n",
        "DELETE FROM employees\n",
        "WHERE emp_no = 10005;\n",
        "\n",
        "# 값을 잘 삭제했는지 확인하는 코드입니다. 수정하지마세요!\n",
        "SELECT * FROM employees;"
      ],
      "metadata": {
        "id": "e2e77Bg3UvDn"
      },
      "execution_count": null,
      "outputs": []
    },
    {
      "cell_type": "code",
      "source": [
        "# 미션1 - 가게 db\n",
        "# -- 아래에 문제 설명대로 정보를 추가해 봅시다.\n",
        "ISNERT INTO product\n",
        "VALUES(1, 'carrot', 100, '2019-04-10', 1000, 900);\n",
        "\n",
        "ISNERT INTO product\n",
        "VALUES(2, 'tea', 1000, '2020-02-10', 1000, 900);\n",
        "\n",
        "ISNERT INTO product\n",
        "VALUES(3, 'clock', 100, null, 200000, 180000);\n",
        "\n",
        "# -- product테이블 전체를 조회해 봅시다.\n",
        "select * from product;"
      ],
      "metadata": {
        "id": "ZSh6YltXWCZ4"
      },
      "execution_count": null,
      "outputs": []
    },
    {
      "cell_type": "code",
      "source": [
        "#미션2 - 가게 db\n",
        "# -- 아래에 문제 설명대로 수정해 봅시다.\n",
        "\n",
        "# UPDATE 테이블명\n",
        "# SET 변경할 컬럼 = 변경할 값\n",
        "# WHERE 변경을 수행할 값(행)들에 대한 조건;\n",
        "\n",
        "UPDATE product\n",
        "SET stock = 0\n",
        "where id = 1;\n",
        "\n",
        "UPDATE product\n",
        "SET stock = 50\n",
        "where id = 3;\n",
        "\n",
        "UPDATE product\n",
        "SET selling_price = 800\n",
        "where id = 2;\n",
        "\n",
        "# DELETE from 테이블명\n",
        "# WHERE 삭제하고자 하는 데이터 (행) 조건;\n",
        "DELETE FROM product\n",
        "where id = 4;\n",
        "\n",
        "# 수정된 product테이블 전체를 조회합니다. 만약 product를 수정하지 않았다면 수정되지 않은 값이 조회됩니다.\n",
        "select * from product;"
      ],
      "metadata": {
        "id": "bAU9dSToWCW2"
      },
      "execution_count": null,
      "outputs": []
    },
    {
      "cell_type": "code",
      "source": [
        "#미션3 - 발언권 주주\n",
        "# -- 아래에 미션을 수행하는 코드를 작성해 봅시다.\n",
        "select * from shareholder\n",
        "order by stock desc;"
      ],
      "metadata": {
        "id": "pSXiQOaTWCTz"
      },
      "execution_count": null,
      "outputs": []
    },
    {
      "cell_type": "markdown",
      "metadata": {
        "id": "slJ_dM2-J3le"
      },
      "source": [
        "교안으로"
      ]
    }
  ],
  "metadata": {
    "kernelspec": {
      "display_name": "Python 3.8.9 64-bit",
      "language": "python",
      "name": "python3"
    },
    "language_info": {
      "name": "python",
      "version": "3.8.9"
    },
    "orig_nbformat": 4,
    "vscode": {
      "interpreter": {
        "hash": "31f2aee4e71d21fbe5cf8b01ff0e069b9275f58929596ceb00d14d90e3e16cd6"
      }
    },
    "colab": {
      "provenance": [],
      "include_colab_link": true
    }
  },
  "nbformat": 4,
  "nbformat_minor": 0
}
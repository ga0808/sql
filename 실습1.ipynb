{
  "cells": [
    {
      "cell_type": "markdown",
      "metadata": {
        "id": "view-in-github",
        "colab_type": "text"
      },
      "source": [
        "<a href=\"https://colab.research.google.com/github/ga0808/sql/blob/main/%EC%8B%A4%EC%8A%B51.ipynb\" target=\"_parent\"><img src=\"https://colab.research.google.com/assets/colab-badge.svg\" alt=\"Open In Colab\"/></a>"
      ]
    },
    {
      "cell_type": "code",
      "execution_count": null,
      "metadata": {
        "id": "8xllKJSX53iL"
      },
      "outputs": [],
      "source": [
        "# 실습 환경 설명해주기\n",
        "\n",
        "# 실습배경\n",
        "# 지시사항\n",
        "# 코드창\n",
        "# 결과 출력\n",
        "#--> 안내하기"
      ]
    },
    {
      "cell_type": "code",
      "execution_count": null,
      "metadata": {
        "id": "QLQD7-us53iO"
      },
      "outputs": [],
      "source": [
        "# 관계형 데이터 베이스"
      ]
    },
    {
      "cell_type": "code",
      "execution_count": null,
      "metadata": {
        "id": "IrJiIi2Z53iP"
      },
      "outputs": [],
      "source": [
        "# 실습 1\n",
        "\n",
        "#DESC문을 이용해 employees 테이블의 구조를 출력해보세요.\n",
        "DESC employees;\n",
        "\n",
        "# DESC문을 이용해 salaries 테이블의 구조를 출력해보세요.\n",
        "DESC salaries;\n",
        "\n",
        "# extra : SQL문을 어떻게 수행할 것인지에 대한 추가 정보를 보여주는 항목\n"
      ]
    },
    {
      "cell_type": "markdown",
      "metadata": {
        "id": "XY3rLXZG53iP"
      },
      "source": [
        "교안으로  "
      ]
    },
    {
      "cell_type": "code",
      "execution_count": null,
      "metadata": {
        "id": "orN3CjX753iQ"
      },
      "outputs": [],
      "source": [
        "# 실습 2 - SELECT 1\n",
        "\n",
        "# SELECT문을 이용해 book테이블을 조회하는 쿼리를 작성해주세요.\n",
        "select * from book;"
      ]
    },
    {
      "cell_type": "code",
      "execution_count": null,
      "metadata": {
        "id": "qkI9nIgh53iR"
      },
      "outputs": [],
      "source": [
        "# 실습 3 - SELECT 2\n",
        "\n",
        "# SELECT문을 이용해 employees테이블을 조회하는 쿼리를 작성해주세요.\n",
        "\n",
        "# * 은 모든 컬럼을 모두 확인할 수 있음\n",
        "SELECT * FROM employees;"
      ]
    },
    {
      "cell_type": "code",
      "execution_count": null,
      "metadata": {
        "id": "Ff4BOJVc53iR"
      },
      "outputs": [],
      "source": [
        "# 실습 4 - SELECT 3\n",
        "\n",
        "# book 테이블의 구조를 조회하는 쿼리입니다. 수정하실 필요는 없습니다.\n",
        "DESC book;\n",
        "\n",
        "# 책의 제목과 저자만 골라서 조회하는 쿼리를 작성해주세요.\n",
        "# 특정 컬럼명만 적으면, 특정 컬럼들만 추출하여 조회 가능\n",
        "SELECT title, author FROM book;"
      ]
    },
    {
      "cell_type": "markdown",
      "metadata": {
        "id": "61y2bPY753iR"
      },
      "source": [
        "교안으로  "
      ]
    },
    {
      "cell_type": "code",
      "execution_count": null,
      "metadata": {
        "id": "OSkkyA2Z53iR"
      },
      "outputs": [],
      "source": [
        "# 실습 5 - DISTINCT\n",
        "\n",
        "# salaries 테이블에 있는 직원 번호를 중복 없이 출력해 봅니다.\n",
        "SELECT DISTINCT emp_no FROM salaries;"
      ]
    },
    {
      "cell_type": "code",
      "execution_count": null,
      "metadata": {
        "id": "eLwc9IJ553iS"
      },
      "outputs": [],
      "source": [
        "# 퀴즈 2\n",
        "\n",
        "# 관계형 데이터베이스\n",
        "# 비관계형 데이터베이스 : https://gaemi606.tistory.com/entry/NoSQL%EB%B9%84%EA%B4%80%EA%B3%84%ED%98%95-%EB%8D%B0%EC%9D%B4%ED%84%B0%EB%B2%A0%EC%9D%B4%EC%8A%A4-%EC%95%8C%EC%95%84%EB%B3%B4%EA%B8%B0\n",
        "# navigational database : 주로 다른 객체의 참조를 따라 레코드 나 객체를 찾는 유형의 데이터베이스\n",
        "#               트리구조나 그래프 구조로 데이터가 조직된 형태로 60~70년대에 사용 다수"
      ]
    },
    {
      "cell_type": "markdown",
      "metadata": {
        "id": "uOmAjhrt53iS"
      },
      "source": [
        "교안으로"
      ]
    },
    {
      "cell_type": "code",
      "execution_count": null,
      "metadata": {
        "id": "UDla5skq53iS"
      },
      "outputs": [],
      "source": [
        "# 실습 6 - WHERE 1\n",
        "\n",
        "# 테이블의 구조를 출력하는 쿼리입니다. 실행 버튼을 눌러보시면 테이블의 구조를 알 수 있습니다.\n",
        "DESC book;\n",
        "\n",
        "# Joanne Kathleen Rowling작가의 책만 골라서 조회하는 쿼리를 작성해주세요.\n",
        "select * from book\n",
        "where author = 'Joanne Kathleen Rowling';"
      ]
    },
    {
      "cell_type": "code",
      "execution_count": null,
      "metadata": {
        "id": "6BYD-lTA53iS"
      },
      "outputs": [],
      "source": [
        "# 실습 7 - WHERE 2\n",
        "\n",
        "# gender가 'M'인 직원만 골라서 조회하는 쿼리를 작성해주세요.\n",
        "SELECT * FROM employees\n",
        "WHERE gender = 'M';"
      ]
    },
    {
      "cell_type": "code",
      "execution_count": null,
      "metadata": {
        "id": "IVZ_mjRa53iT"
      },
      "outputs": [],
      "source": [
        "# 퀴즈 3 : where\n",
        "# 나머진 없는 명령어"
      ]
    },
    {
      "cell_type": "markdown",
      "metadata": {
        "id": "lxXNsxzM53iT"
      },
      "source": [
        "교안으로"
      ]
    },
    {
      "cell_type": "code",
      "execution_count": null,
      "metadata": {
        "id": "jzYKoxHc53iT"
      },
      "outputs": [],
      "source": [
        "# 실습 8\n",
        "\n",
        "DESC score;\n",
        "\n",
        "# 수학 점수가 80점 초과, 국어 점수가 90점 이상인 학생의 정보를 검색해보세요.\n",
        "select *\n",
        "from score\n",
        "where math > 80 and korean >= 90;"
      ]
    },
    {
      "cell_type": "code",
      "execution_count": null,
      "metadata": {
        "id": "ZC7hOeNo53iT"
      },
      "outputs": [],
      "source": [
        "# 실습 9\n",
        "\n",
        "# 여자 직원 중 이름이 Chirstian인 직원들을 출력합니다.\n",
        "SELECT * FROM employees\n",
        "WHERE gender = 'F'\n",
        "AND first_name = 'Chirstian';"
      ]
    },
    {
      "cell_type": "code",
      "execution_count": null,
      "metadata": {
        "id": "HIhJZNe053iT"
      },
      "outputs": [],
      "source": [
        "# 실습 10 - and/ or/ not\n",
        "\n",
        "# 문제의 조건에 맞는 직원을을 출력합니다.\n",
        "SELECT *\n",
        "FROM employees\n",
        "WHERE (first_name = 'Chirstian' OR first_name = 'Georgi') #우선순위 주의\n",
        "AND gender = 'M'\n",
        "AND NOT hire_date = '1986-06-26';"
      ]
    },
    {
      "cell_type": "markdown",
      "metadata": {
        "id": "CHHL90kB53iU"
      },
      "source": [
        "교안으로"
      ]
    },
    {
      "cell_type": "code",
      "execution_count": null,
      "metadata": {
        "id": "aH0e5-oJ53iU"
      },
      "outputs": [],
      "source": [
        "# 실습 11 - between\n",
        "\n",
        "DESC score;\n",
        "\n",
        "# 짜장면을 받을 수 있는 학생을 조회하는 쿼리를 작성해주세요.\n",
        "select * from score\n",
        "where korean=100 or english=100 or math=100\n",
        ";\n",
        "\n",
        "# 과자를 받을 수 있는 학생을 조회하는 쿼리를 작성해주세요.\n",
        "select * from score\n",
        "where korean between 70 and 95\n",
        "and english between 70 and 95\n",
        "and math between 70 and 95\n",
        ";"
      ]
    },
    {
      "cell_type": "code",
      "execution_count": null,
      "metadata": {
        "id": "JvEt7OVE53iU"
      },
      "outputs": [],
      "source": [
        "# 실습 12 - between2\n",
        "\n",
        "# 1980~1989년도에 입사한 직원을 검색하세요.\n",
        "SELECT * FROM employees\n",
        "WHERE hire_date\n",
        "BETWEEN '1980-01-01' AND '1989-12-31'\n",
        ";\n",
        "\n",
        "# 1990~1999년도에 입사한 직원을 검색하세요.\n",
        "SELECT * FROM employees\n",
        "WHERE hire_date\n",
        "BETWEEN '1990-01-01' AND '1999-12-31'\n",
        ";\n"
      ]
    },
    {
      "cell_type": "markdown",
      "metadata": {
        "id": "KfDCQQxR53iU"
      },
      "source": [
        "교안으로"
      ]
    },
    {
      "cell_type": "code",
      "execution_count": null,
      "metadata": {
        "id": "1NDq1LnC53iU"
      },
      "outputs": [],
      "source": [
        "# 실습 13\n",
        "\n",
        "# 책들의 정보가 담긴 테이블의 구조를 출력합니다. 수정하실 필요는 없습니다.\n",
        "DESC book;\n",
        "\n",
        "# 해당하는 작가가 쓴 책만 골라서 출력합니다.\n",
        "select *\n",
        "from book\n",
        "where author in ('William Shakespeare', 'John Ronald Reuel Tolkien', 'Joanne Kathleen Rowling')\n",
        ";"
      ]
    },
    {
      "cell_type": "code",
      "execution_count": null,
      "metadata": {
        "id": "VdRXl30c53iV"
      },
      "outputs": [],
      "source": [
        "# 실습 14\n",
        "\n",
        "# 해당하는 이름을 가진 사람들만 골라서 출력합니다.\n",
        "SELECT * FROM employees\n",
        "WHERE last_name IN ('Michaels', 'Genin', 'Peha')\n",
        ";"
      ]
    },
    {
      "cell_type": "code",
      "execution_count": null,
      "metadata": {
        "id": "v5QCvWNw53iV"
      },
      "outputs": [],
      "source": [
        "# 퀴즈 4\n",
        "\n",
        "# and = &&\n",
        "# or = ||\n",
        "# https://oneul-losnue.tistory.com/114 : 연산자\n",
        "\n"
      ]
    },
    {
      "cell_type": "markdown",
      "metadata": {
        "id": "fdOuyR5X53iV"
      },
      "source": [
        "교안으로 가서 마무리 내용 복습하고 미션 1,2,3 풀기"
      ]
    },
    {
      "cell_type": "code",
      "execution_count": null,
      "metadata": {
        "id": "UYsK9Lg553iV"
      },
      "outputs": [],
      "source": [
        "# 미션 1\n",
        "# 아래에 미션을 수행하는 코드를 작성해 봅시다.\n",
        "\n",
        "select name from student;\n",
        "select * from student where gender = 'M';\n",
        "select height from student where height <= 170;\n",
        "select weight from student where weight >= 50;"
      ]
    },
    {
      "cell_type": "code",
      "execution_count": null,
      "metadata": {
        "id": "QOOVIUQH53iV"
      },
      "outputs": [],
      "source": [
        "# 미션 2\n",
        "\n",
        "# 아래에 미션을 수행하는 코드를 작성해 봅시다.\n",
        "\n",
        "# 제곰 연산 함수 -> POWER(3,4) = 3의 4제곱\n",
        "select *, weight / (  (height/100)*(height/100)  )\n",
        "from student\n",
        ";\n",
        "\n",
        "\n",
        "select *, weight / (  (height/100)*(height/100)  )\n",
        "from student\n",
        "where weight / ((height/100)*(height/100)) <= 18.5\n",
        "or weight / ((height/100)*(height/100)) >=25.0\n",
        ";"
      ]
    },
    {
      "cell_type": "code",
      "execution_count": null,
      "metadata": {
        "id": "9LcEGWtp53iV"
      },
      "outputs": [],
      "source": [
        "# 미션 3\n",
        "\n",
        "# 아래에 미션을 수행하는 코드를 작성해 봅시다.\n",
        "\n",
        "#1.\n",
        "select * from shareholder;\n",
        "\n",
        "#2.\n",
        "select * from shareholder\n",
        "where stock >= 100000;\n",
        "\n",
        "#3.\n",
        "select stock from shareholder\n",
        "where name in (\"Alexis\", \"Craig\", \"Fred\");\n",
        "\n",
        "#4.\n",
        "select name,stock from shareholder\n",
        "where agree = 0 and stock >= 100000;\n",
        "\n",
        "#5.\n",
        "select name,stock from shareholder\n",
        "where agree = 1 and stock >= 100000;\n",
        "\n",
        "#6.\n",
        "select * from shareholder\n",
        "where stock <= 100000 or stock >= 200000;"
      ]
    }
  ],
  "metadata": {
    "kernelspec": {
      "display_name": "Python 3.8.9 64-bit",
      "language": "python",
      "name": "python3"
    },
    "language_info": {
      "name": "python",
      "version": "3.8.9"
    },
    "orig_nbformat": 4,
    "vscode": {
      "interpreter": {
        "hash": "31f2aee4e71d21fbe5cf8b01ff0e069b9275f58929596ceb00d14d90e3e16cd6"
      }
    },
    "colab": {
      "provenance": [],
      "include_colab_link": true
    }
  },
  "nbformat": 4,
  "nbformat_minor": 0
}
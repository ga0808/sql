{
  "cells": [
    {
      "cell_type": "markdown",
      "metadata": {
        "id": "view-in-github",
        "colab_type": "text"
      },
      "source": [
        "<a href=\"https://colab.research.google.com/github/ga0808/sql/blob/main/New%EC%8B%A4%EC%8A%B54.ipynb\" target=\"_parent\"><img src=\"https://colab.research.google.com/assets/colab-badge.svg\" alt=\"Open In Colab\"/></a>"
      ]
    },
    {
      "cell_type": "code",
      "execution_count": null,
      "metadata": {
        "id": "nGvLcFB7UfWf"
      },
      "outputs": [],
      "source": [
        "# 실습 1 - GROUP BY\n",
        "\n",
        "# -- rental테이블의 구조를 조회합니다. 수정하실 필요는 없습니다.\n",
        "DESC rental;\n",
        "\n",
        "# -- 누가 몇권의 책을 빌려갔는지 조회해 봅시다.\n",
        "SELECT user_id, COUNT(*)  #집계하지 않으면 book_id 해보면 알겠지만, 중복데이터 있을때는 첫번째 행의 값을 조회\n",
        "FROM rental               #유저 한명이 대여한 책이 많을텐데, 그 중 하나만 보인 다는 것\n",
        "GROUP BY user_id;"
      ]
    },
    {
      "cell_type": "code",
      "execution_count": null,
      "metadata": {
        "id": "7M85COhwUfWi"
      },
      "outputs": [],
      "source": [
        "# 실습 2 - GROUP BY 2\n",
        "\n",
        "# -- salaries 테이블에서 emp_no과 직원별로 연봉을 받은 횟수를 조회해보세요.\n",
        "SELECT emp_no, COUNT(*)\n",
        "FROM salaries\n",
        "GROUP BY emp_no\n",
        ";"
      ]
    },
    {
      "cell_type": "markdown",
      "metadata": {
        "id": "gSk1BVCTUfWi"
      },
      "source": [
        "교안으로"
      ]
    },
    {
      "cell_type": "code",
      "execution_count": null,
      "metadata": {
        "id": "wWZzTiZCUfWj"
      },
      "outputs": [],
      "source": [
        "#퀴즈 2 - 3\n",
        "\n",
        "\n",
        "# 실습 3 - HAVING\n",
        "# -- rental테이블의 구조를 조회합니다. 수정하실 필요는 없습니다.\n",
        "DESC rental;\n",
        "\n",
        "\n",
        "# -- 누가 몇권의 책을 빌려갔는지 조회해 봅시다.\n",
        "# -- 이때 두권 이상 빌린 사람들만 조회해 봅시다.\n",
        "select user_id, COUNT(*)\n",
        "from rental\n",
        "group by user_id\n",
        "having COUNT(*) >= 2;"
      ]
    },
    {
      "cell_type": "code",
      "execution_count": null,
      "metadata": {
        "id": "q8SJoppOUfWj"
      },
      "outputs": [],
      "source": [
        "# 실습 4 - HAVING 2\n",
        "# -- salaries 테이블에서 emp_no과 직원별로 연봉을 받은 횟수를 조회하되\n",
        "# 연봉을 10번 이상 받은 직원만 조회해보세요.\n",
        "\n",
        "#해당 테이블의 한 행은 = 한 사람이 해당 기간(1년)에 받은 연봉에 대한 데이터\n",
        "SELECT emp_no, COUNT(*)\n",
        "FROM salaries\n",
        "GROUP BY emp_no\n",
        "HAVING COUNT(*) > 10\n",
        ";\n",
        "\n"
      ]
    },
    {
      "cell_type": "markdown",
      "metadata": {
        "id": "QA8XHvdrUfWk"
      },
      "source": [
        "교안으로"
      ]
    },
    {
      "cell_type": "code",
      "source": [
        "#퀴즈 3 - 2\n",
        "#퀴즈4 - on"
      ],
      "metadata": {
        "id": "NRP_aASklvuc"
      },
      "execution_count": null,
      "outputs": []
    },
    {
      "cell_type": "code",
      "execution_count": null,
      "metadata": {
        "id": "tcnKn7n7UfWk"
      },
      "outputs": [],
      "source": [
        "# 실습 5 - Inner join\n",
        "\n",
        "# -- 대출,반납에 대한 정보를 user 테이블과 연결해 조회해 봅시다.\n",
        "select *\n",
        "from rental\n",
        "inner join user;\n",
        "\n",
        "#어떻게 합칠지 조건이 없으면 - 모든 행의 조합으로 결과가 나옴"
      ]
    },
    {
      "cell_type": "markdown",
      "metadata": {
        "id": "klIztA6SUfWk"
      },
      "source": [
        "교안으로"
      ]
    },
    {
      "cell_type": "code",
      "execution_count": null,
      "metadata": {
        "id": "jzMSYcdsUfWl"
      },
      "outputs": [],
      "source": [
        "# 실습 6\n",
        "\n",
        "# -- 대출,반납에 대한 정보를 user 테이블과 연결해 조회해 봅시다.\n",
        "select * from rental\n",
        "inner join user\n",
        "on rental.user_id = user.id\n",
        ";"
      ]
    },
    {
      "cell_type": "code",
      "execution_count": null,
      "metadata": {
        "id": "H9I2QqVqUfWl"
      },
      "outputs": [],
      "source": [
        "# 실습 7\n",
        "\n",
        "# -- 연봉에 대한 정보를 employees 테이블과 연결해 조회해 봅시다.\n",
        "SELECT * FROM salaries\n",
        "INNER JOIN employees\n",
        "ON salaries.emp_no = employees.emp_no;\n"
      ]
    },
    {
      "cell_type": "markdown",
      "metadata": {
        "id": "yRJI8ZKcUfWl"
      },
      "source": [
        "교안으로"
      ]
    },
    {
      "cell_type": "code",
      "execution_count": null,
      "metadata": {
        "id": "dgqo-i6KUfWl"
      },
      "outputs": [],
      "source": [
        "#퀴즈 - left join\n",
        "\n",
        "\n",
        "\n",
        "# 실습 8\n",
        "\n",
        "# -- 대출,반납에 대한 정보를 user 테이블과 연결해 조회해 봅시다.\n",
        "# -- 대신 rental 테이블이 중심이 되도록 조회해 봅시다.\n",
        "select * from rental\n",
        "left join user\n",
        "on rental.user_id = user.id ;\n",
        "\n",
        "#user 테이블에 정보가 없는 유저들은 null\n",
        "# --> 대여 기록은 있는데, 유저 정보는 없는 1010,1011,1012 -> 대여 이용하다가, 탈퇴 한 것 같음"
      ]
    },
    {
      "cell_type": "code",
      "execution_count": null,
      "metadata": {
        "id": "CzBLLARNUfWl"
      },
      "outputs": [],
      "source": [
        "# 실습 9\n",
        "\n",
        "# -- 연봉에 대한 정보를 employees 테이블과 연결해 조회하되 salaries 테이블을 중심으로 조회해보세요.\n",
        "SELECT * FROM salaries\n",
        "LEFT JOIN employees\n",
        "ON salaries.emp_no = employees.emp_no;\n",
        "\n",
        "#연봉을 받았던 기록을 가진 사원들은 현재 사원 테이블에 없다하더라도 존재할 수 있도록 가져옴\n",
        "# 10004 사원 같은 경우에는\n",
        "# -> salaries 기록은 있음 = 연봉 받았던 기록은 있음\n",
        "# -> 그러나 현재 employees에는 기록이 없음 = 현재 사원이 아님\n",
        "# == 이전에 다닐때 연봉 정보가 기록이 있지만, 현재 퇴사해서 직원 정보가 없는 것으로 추론됨\n",
        "\n"
      ]
    },
    {
      "cell_type": "markdown",
      "metadata": {
        "id": "xcc9dcMMUfWl"
      },
      "source": [
        "교안으로"
      ]
    },
    {
      "cell_type": "code",
      "execution_count": null,
      "metadata": {
        "id": "E9Z4h1nwUfWm"
      },
      "outputs": [],
      "source": [
        "#퀴즈 - right join\n",
        "\n",
        "\n",
        "# 실습 10\n",
        "# -- 대출,반납에 대한 정보를 user 테이블과 연결해 조회해 봅시다.\n",
        "# -- 대신 user테이블이 중심이 되도록 해 봅시다.\n",
        "select * from rental\n",
        "right join user\n",
        "on rental.user_id = user.id\n",
        ";\n",
        "\n",
        "#user 정보는 있는데, rental 정보는 없는 유저의 정보들도 모두 가지고 옴\n",
        "# -> 1003,1004 같은 경우에는 유저 테이블= right 테이블에만 존재하는 유저\n",
        "# -> 회원 등록은 했는데, 아직 대여한 적이 없어서 rental 테이블에 기록이 없는 유저"
      ]
    },
    {
      "cell_type": "code",
      "execution_count": null,
      "metadata": {
        "id": "6ER5v2DTUfWm"
      },
      "outputs": [],
      "source": [
        "# 실습 11\n",
        "\n",
        "# -- 연봉에 대한 정보를 employees 테이블과 연결해 조회하되 employees 테이블을 중심으로 조회해보세요.\n",
        "SELECT * FROM salaries\n",
        "RIGHT JOIN employees\n",
        "ON salaries.emp_no = employees.emp_no;\n",
        "\n",
        "#salaries에는 없다하더라도 = 연봉 정보가 없다하더라도,\n",
        "# employees에는 있는 사원의 정보 = 지금 사원으로 존재하는 사람들의 정보 들 또한 존재함\n",
        "# -> 10005 유저는 employees 테이블 = right 에만 존재하는 테이블인데 join 결과에 반영됨\n",
        "# -> 현재 사원으로 입사해서, 사원 정보로 존재하지만 아직 1년이 안채워져서 연봉 정보는 기록이 없는 것"
      ]
    },
    {
      "cell_type": "markdown",
      "metadata": {
        "id": "LLJL6dBrUfWm"
      },
      "source": [
        "교안으로"
      ]
    },
    {
      "cell_type": "code",
      "execution_count": null,
      "metadata": {
        "id": "-xjEw3AlUfWm"
      },
      "outputs": [],
      "source": [
        "# 미션 1 : 없는 것 같음\n",
        "# -- 판매기록을 product 테이블과 연결해 출력해 봅시다.\n",
        "# -- 이때 product테이블이 중심이 되도록 해 봅시다.\n",
        "select * from sale\n",
        "right join product\n",
        "on sale.product_id = product.id ;\n",
        "\n",
        "#product에만 있는 product_id라고 하더라도 가져옴\n",
        "#왼쪽인 sale에만 있는 product_id는 안가져옴"
      ]
    },
    {
      "cell_type": "code",
      "execution_count": null,
      "metadata": {
        "id": "GYPM0oAVUfWm"
      },
      "outputs": [],
      "source": [
        "# 미션 2\n",
        "\n",
        "# -- 지시사항을 만족하는 쿼리를 작성해보세요.\n",
        "SELECT name, SUM(amount)\n",
        "FROM sale\n",
        "GROUP BY name\n",
        "HAVING SUM(revenue) >= 50000;"
      ]
    },
    {
      "cell_type": "code",
      "execution_count": null,
      "metadata": {
        "id": "Vn_8XV17UfWm"
      },
      "outputs": [],
      "source": [
        "# 미션 3\n",
        "# -- 지시사항을 만족하는 쿼리를 작성해보세요.\n",
        "SELECT *\n",
        "FROM employees\n",
        "GROUP BY dept;\n",
        "#그룹화를 진행해서, 그룹마다 하나의 값으로 집계가 되어야하는데\n",
        "#집계 수행안하고 있어서\n",
        "#부서별 데이터 그룹마다, 존재하는 첫번째 행의 데이터(id, name)을 부서별로 출력하고 있는 것\n",
        "\n",
        "SELECT dept, COUNT(id) #이렇게 부서별로 id 개수를 세어도 정확하겠지만\n",
        "FROM employees\n",
        "GROUP BY dept;\n",
        "\n",
        "\n",
        "SELECT dept, COUNT(*) #출력결과와 같이 컬럼명을 맞춰줘야함. 똑같은 결과이라고 하더라도 채점이 잘 안될 수 있음\n",
        "FROM employees\n",
        "GROUP BY dept;\n",
        "\n",
        "\n"
      ]
    },
    {
      "cell_type": "code",
      "execution_count": null,
      "metadata": {
        "id": "WT_UblEpUfWm"
      },
      "outputs": [],
      "source": []
    },
    {
      "cell_type": "code",
      "execution_count": null,
      "metadata": {
        "id": "2Zp4mH9zUfWm"
      },
      "outputs": [],
      "source": []
    }
  ],
  "metadata": {
    "kernelspec": {
      "display_name": "Python 3.8.9 64-bit",
      "language": "python",
      "name": "python3"
    },
    "language_info": {
      "name": "python",
      "version": "3.8.9"
    },
    "orig_nbformat": 4,
    "vscode": {
      "interpreter": {
        "hash": "31f2aee4e71d21fbe5cf8b01ff0e069b9275f58929596ceb00d14d90e3e16cd6"
      }
    },
    "colab": {
      "provenance": [],
      "include_colab_link": true
    }
  },
  "nbformat": 4,
  "nbformat_minor": 0
}
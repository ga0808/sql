{
  "nbformat": 4,
  "nbformat_minor": 0,
  "metadata": {
    "colab": {
      "provenance": [],
      "authorship_tag": "ABX9TyMSKDCiKl4c1mEbp1ld4V93",
      "include_colab_link": true
    },
    "kernelspec": {
      "name": "python3",
      "display_name": "Python 3"
    },
    "language_info": {
      "name": "python"
    }
  },
  "cells": [
    {
      "cell_type": "markdown",
      "metadata": {
        "id": "view-in-github",
        "colab_type": "text"
      },
      "source": [
        "<a href=\"https://colab.research.google.com/github/ga0808/sql/blob/main/New8%EC%84%9C%EB%B8%8C%EC%BF%BC%EB%A6%AC_%EC%8B%AC%ED%99%94.ipynb\" target=\"_parent\"><img src=\"https://colab.research.google.com/assets/colab-badge.svg\" alt=\"Open In Colab\"/></a>"
      ]
    },
    {
      "cell_type": "code",
      "execution_count": null,
      "metadata": {
        "id": "vdmnE2t7G9kz"
      },
      "outputs": [],
      "source": [
        "#실습 1\n",
        "\n",
        "# -- 아래는 EMPLOYEE 테이블에 대한 구조를 보여줍니다. 테이블을 수정하실 필요는 없습니다.\n",
        "DESC EMPLOYEE;\n",
        "\n",
        "# -- 자신의 관리자의 급여보다 높거나 같은 급여를 가진 직원의 ID를 출력하는 쿼리를 작성해봅시다.\n",
        "\n",
        "#아까 풀었던 셀프 조인에 대한 내용인데, 이번엔 다르게 연관 서브쿼리문으로 작성\n",
        "\n",
        "#EMPLOYEE에서 자신의 관리자의 급여 (관리자도 사내 직원 중의 한명) ==> 서브쿼리\n",
        "#-> EMPLOYEE에서에 있는 각 직원의 관리자 id에 대해서 - EMPLOYEE에서 직원 id로 조회 ==> 메인 쿼리와 연관 서브쿼리\n",
        "\n",
        "\n",
        "SELECT employee_id\n",
        "from EMPLOYEE a\n",
        "WHERE salary >= #직원의 조회해온 관리자의 연봉보다 큰 경우에 대한 조건\n",
        " (SELECT salary\n",
        "  FROM EMPLOYEE b\n",
        "  # 각 직원의 관리자의 정보를 얻기위해 - 관리자 아이디를 가지고 - 직원 번호와 비교하여 가져옴\n",
        "  #관리자 아이디와 동일한 직원 아이디를 가지는 행 -> 관리자의 정보 행\n",
        "  WHERE a.manager_id =  b.employee_id )\n",
        "ORDER BY employee_id asc;\n"
      ]
    },
    {
      "cell_type": "code",
      "source": [
        "#실습 2\n",
        "\n",
        "# -- 아래는 EMPLOYEE 테이블에 대한 구조를 보여줍니다. 테이블을 수정하실 필요는 없습니다.\n",
        "DESC EMPLOYEE;\n",
        "\n",
        "#직원 아이디 - 연봉 - 관리자 아이디\n",
        "# -- 급여가 8000미만인 직원의 관리자 아이디와 급여를 출력하는 쿼리를 작성하세요.\n",
        "# 급여가 8000 미만인 직원들이 있을 것, 그 사람들의 관리자 아이디와 급여를 조회\n",
        "\n",
        "# 각 직원의 관리자 아이디는 알겠는데, 관리자의 연봉이나 관리자 정보는?\n",
        "# 관리자도 사내 직원들 중의 한명이니까\n",
        "# 각 직원의 관리자 아이디를 -> 다시 한번 동일한 데이터 테이블에서 직원 아이디로 조회하면 되겠음\n",
        "\n",
        "# 급여가 8000미만인 직원들의 관리자 아이디 조회 -> 서브쿼리\n",
        "# 조회한 관리자 아이디들 중에 하나라도 만족하는 직원 아이디라면 ? 해당 직원의 아이디와 연봉 조회\n",
        "#   -> 메인쿼리 - 하나라도 만족하는 조건 -> 하나라도 만족 = IN / ANY\n",
        "#\n",
        "\n",
        "SELECT employee_id, salary\n",
        "from EMPLOYEE\n",
        "where employee_id in      = any() #가독성은 in이 좋음\n",
        "    (\n",
        "    SELECT manager_id\n",
        "    FROM EMPLOYEE\n",
        "    where salary < 8000\n",
        "    )\n",
        "order by employee_id asc;\n",
        "              # #연관 쿼리 ==== 수업 x\n",
        "              # SELECT employee_id, salary\n",
        "              # FROM EMPLOYEE e1\n",
        "              # WHERE EXISTS (\n",
        "              #     SELECT 1\n",
        "              #     FROM EMPLOYEE e2\n",
        "              #     WHERE e2.manager_id = e1.employee_id\n",
        "              #     AND e2.salary < 8000\n",
        "              # )\n",
        "              # ORDER BY employee_id ASC;\n"
      ],
      "metadata": {
        "id": "PoXk21VCSETw"
      },
      "execution_count": null,
      "outputs": []
    },
    {
      "cell_type": "code",
      "source": [
        "#퀴즈 1 - 비연관 서브쿼리 (서브쿼리에서 메인 쿼리의 데이터를 참조하지 않고 독립적으로 실행)"
      ],
      "metadata": {
        "id": "VfhOhVPISERn"
      },
      "execution_count": null,
      "outputs": []
    },
    {
      "cell_type": "code",
      "source": [
        "#실습 3\n",
        "\n",
        "# -- 아래는 REQUEST, REQUEST_DTL 테이블에 대한 구조를 보여줍니다. 테이블을 수정하실 필요는 없습니다.\n",
        "DESC REQUEST; # 요청 id, 요청 상태 정보\n",
        "DESC REQUEST_DTL; # 요청 상세 ID, 요청 ID, 요청 이름, 요청 내용 등\n",
        "\n",
        "# -- 1. REQUEST에서 요청상태가 FAILED인 요청 데이터의 request_id를 조회\n",
        "SELECT request_id\n",
        "FROM REQUEST\n",
        "WHERE request_status = 'FAILED'\n",
        ";\n",
        "#단일 결과가 조회됨\n",
        "\n",
        "#FAILED라고 조회된 request_id에 대한 데이터를 REQUEST_DTL테이블에서 조회\n",
        "\n",
        "# -- 2. 위에서 작성한 쿼리를 서브쿼리로 이용하여 REQUEST_DTL 테이블에서 요청 상세를 조회하는 쿼리를 작성해보세요.\n",
        "# REQUEST_DTL테이블에서\n",
        "# 1번 쿼리를 -> 서브 쿼리로 사용하고\n",
        "# 특정 컬럼들만 조회하기\n",
        "SELECT request_dtl_id, request_id, request_name, request_content\n",
        "from REQUEST_DTL\n",
        "where request_id = ( #서브쿼리의 결과가 단일행이기 때문에 = 라는 단일행 연산자 사용\n",
        "    SELECT request_id\n",
        "    FROM REQUEST\n",
        "    where request_status = 'FAILED'\n",
        ");\n"
      ],
      "metadata": {
        "id": "wmhLFHQTSEPP"
      },
      "execution_count": null,
      "outputs": []
    },
    {
      "cell_type": "code",
      "source": [
        "#퀴즈2 - 스티브"
      ],
      "metadata": {
        "id": "XdvaqJG3jVw0"
      },
      "execution_count": null,
      "outputs": []
    },
    {
      "cell_type": "code",
      "source": [
        "#실습 4\n",
        "#아래는 REQUEST, REQUEST_DTL 테이블에 대한 구조를 보여줍니다. 테이블을 수정하실 필요는 없습니다.\n",
        "DESC REQUEST;\n",
        "DESC REQUEST_DTL;\n",
        "\n",
        "\n",
        "#이전 문제 처럼 요청 상태가 FAILED인 요청 ID를 구하기\n",
        "SELECT request_id FROM REQUEST where request_status = 'FAILED'\n",
        "#이번에는 단일 행이 아니라 여러 행의 반환됨 확인하기\n",
        "\n",
        "# 요청 상태가 FAILED인 요청 ID를 구하고, 해당 요청들에 대한 요청 상세 정보를 조회하는 쿼리를 작성해보세요.\n",
        "SELECT request_dtl_id, request_id, request_name, request_content\n",
        "from REQUEST_DTL\n",
        "where request_id IN #다중행 연산자 사용\n",
        " (SELECT request_id\n",
        "  FROM REQUEST\n",
        "  where request_status = 'FAILED')\n",
        "order by request_dtl_id asc;\n"
      ],
      "metadata": {
        "id": "XCCVNnxiSEM_"
      },
      "execution_count": null,
      "outputs": []
    },
    {
      "cell_type": "code",
      "source": [
        "#실습 5\n",
        "\n",
        "# 아래는 STORE, PAYMENT 테이블에 대한 구조를 보여줍니다. 테이블을 수정하실 필요는 없습니다.\n",
        "DESC STORE; #가게 ID와 가게 이름 - 가게 정보들\n",
        "DESC PAYMENT; #결제 ID와 가게 ID, 결제금액 - 결제 정보들\n",
        "\n",
        "\n",
        "# EXISTS문을 응용하여, 결제금액이 5000원 이상인 가게ID, 가게이름을 조회하는 쿼리를 작성해보세요.\n",
        "select store_id, store_name\n",
        "from STORE s\n",
        "where EXISTS\n",
        " (SELECT 'x'\n",
        "  #조회하고자 하는 데이터가 없이, 그냥 존재여부만을 진행하고자 함 보통은 1\n",
        "  FROM PAYMENT p\n",
        "  WHERE s.store_id = p.store_id\n",
        "  #가게 이름 -> STORE 테이블에 존재,\n",
        "  #근데 결제 금액에 대한 조건도 확인해야함\n",
        "  #그래서 a가게 이름을 가진 (가게 아이디1) 가게의 결제금액이 5000원 이상인지 따지기 위해서\n",
        "  #가게 id를 동일시해서 같은 가게 들의 정보일 수 있게 (가게이름, 결제 아이디/금액)\n",
        "  and p.pay_amount >= 5000) #그리고 결제금액이 5000원 이상\n",
        "order by store_id asc;\n",
        "\n",
        "=====\n",
        "SELECT store_id, 1\n",
        "FROM PAYMENT\n",
        "WHERE pay_amount >= 5000\n",
        ";\n",
        "====\n",
        "\n",
        "#in 연산으로 변환해서 같은 쿼리 결과\n",
        "SELECT store_id, store_name\n",
        "FROM STORE\n",
        "WHERE store_id IN (\n",
        "    SELECT store_id\n",
        "    FROM PAYMENT\n",
        "    WHERE pay_amount >= 5000\n",
        ")\n",
        "ORDER BY store_id ASC;\n",
        "\n",
        "\n",
        "#EXISTS vs IN\n",
        "#1. exists는 메인쿼리가 작동하며 - 동시에 서브쿼리도 조회\n",
        "#   in은 서브쿼리 결과 조회하여 테이블 만들고 나서 메인쿼리에서 연산 수행\n",
        "\n",
        "#2. in은 서브쿼리로 조회된 결과와 명시된 컬럼사이의 연산을 한번 더 진행함\n",
        "#   EXISTS는 in연산과 다르게\n",
        "#    서브쿼리로 조회된 데이터들에 대해서 연산을 더 진행하지 않음\n",
        "#     서브쿼리에 명시된 조건에 해당되면 메인쿼리로 해당 행을 조회 행으로 반환해줌\n",
        "\n",
        "#3. 그래서 대규모 데이터셋에서는 일반적으로 exists를 사용함\n",
        "#   대규모 데이터셋이 아니면 뭘 사용해도 ㄱㅊ\n",
        "\n",
        "#4. 서브쿼리 조회 결과가 아니라 특정 컬럼이 고정된 특정 값에 존재하는지\n",
        "#   확인하고자 할때 in 사용"
      ],
      "metadata": {
        "id": "hAdXKcGnlieN"
      },
      "execution_count": null,
      "outputs": []
    },
    {
      "cell_type": "markdown",
      "source": [
        "![{7B3AA305-5A0A-4E75-A1C5-F11165DF444A}.png](data:image/png;base64,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)"
      ],
      "metadata": {
        "id": "jKQHSW4nqn02"
      }
    },
    {
      "cell_type": "code",
      "source": [
        "#실습 6\n",
        "\n",
        "# 아래는 EMPLOYEE 테이블에 대한 구조를 보여줍니다. 테이블을 수정하실 필요는 없습니다.\n",
        "DESC EMPLOYEE;\n",
        "\n",
        "# 1. 직급이 '사원'인 직원의 급여를 조회하는 쿼리를 작성해봅시다.\n",
        "select salary from EMPLOYEE\n",
        "where position = '사원'\n",
        "order by salary asc;\n",
        "#다중행 - 다중행 연산자 (in,all, any)\n",
        "\n",
        "# 2. 앞에서 작성한 쿼리와 ALL을 이용하여, 모든 사원들의 급여보다 높거나 같은 급여를 가진 직원을 조회하는 쿼리를 작성해봅시다.\n",
        "select employee_id, salary, position\n",
        "from EMPLOYEE\n",
        "where salary >= ALL(\n",
        "    select salary from EMPLOYEE\n",
        "    where position = '사원'\n",
        ")\n",
        "order by employee_id asc;"
      ],
      "metadata": {
        "id": "dflElENCsXDf"
      },
      "execution_count": null,
      "outputs": []
    },
    {
      "cell_type": "code",
      "source": [
        "#실습 7\n",
        "\n",
        "# 아래는 FOOD 테이블에 대한 구조를 보여줍니다. 테이블을 수정하실 필요는 없습니다.\n",
        "DESC FOOD;\n",
        "\n",
        "# 음식타입이 Main인 임의의 음식의 가격보다 비싼 음식들을 조회해봅시다.\n",
        "#음식 타입이 메인인 음식 가격 조회 -> 서브쿼리\n",
        "#임의의 음식 가격보다 비싸면 됨 -> 메인쿼리 조건 -> 그 어떤 가격보다 비싸다 = any()\n",
        "SELECT food_id, food_type, food_name, price\n",
        "from FOOD\n",
        "WHERE price > ANY(\n",
        "    SELECT price\n",
        "    FROM FOOD\n",
        "    WHERE food_type='Main')\n",
        "order by food_id asc;"
      ],
      "metadata": {
        "id": "WpaK4rRAliYt"
      },
      "execution_count": null,
      "outputs": []
    },
    {
      "cell_type": "code",
      "source": [
        "#실습8\n",
        "\n",
        "#아래는 BOOK, BOOK_STOCK 테이블에 대한 구조를 보여줍니다. 테이블을 수정하실 필요는 없습니다.\n",
        "DESC BOOK;\n",
        "DESC BOOK_STOCK;\n",
        "\n",
        "#BOOK_STOCK 테이블에서 재고가 1 이상인 데이터 -> 서브쿼리\n",
        "#의 책 제목, 책 작가 정보를 조회한 후, -> 다중컬럼 서브쿼리\n",
        "# BOOK 테이블에 IN (다중행?-확인해보자)을 활용하여 조회하는 쿼리를 작성해봅시다.\n",
        "SELECT book_id, book_name, book_writer, price\n",
        "from BOOK\n",
        "where (book_name, book_writer) IN\n",
        "    (\n",
        "    SELECT book_name, book_writer #다중행/다중컬럼\n",
        "    FROM BOOK_STOCK\n",
        "    WHERE stock > 0\n",
        "    )\n",
        "order by book_id asc;"
      ],
      "metadata": {
        "id": "MOyAsIcFliWl"
      },
      "execution_count": null,
      "outputs": []
    },
    {
      "cell_type": "code",
      "source": [
        "#퀴즈4 - any in,exists는 비교연산자가 아님"
      ],
      "metadata": {
        "id": "7BMo_LamtDb2"
      },
      "execution_count": null,
      "outputs": []
    },
    {
      "cell_type": "code",
      "source": [
        "#실습 9\n",
        "# 아래는 LECTURE, LECTURE_TYPE 테이블에 대한 구조를 보여줍니다. 테이블을 수정하실 필요는 없습니다.\n",
        "DESC LECTURE; #강의 ID, 강의 이름, 강의 타입 ID -> 모든 강의에 대한 정보\n",
        "DESC LECTURE_TYPE;#타입 ID, 타입 이름 -> 강의 타입별 정보\n",
        "\n",
        "# 타입ID, 타입이름, 타입에 해당하는 강의의 수를 조회하는 쿼리를 작성해봅시다.\n",
        "SELECT type_id, type_name,\n",
        "#select 에 있는 서브쿼리 -> 조회될때 같이 하나씩 수행\n",
        "#메인쿼리에서의 from절에 LECTURE_TYPE 테이블에서\n",
        "#두 컬럼에 대한 데이터 행 하나씩 조회할때 서브쿼리 수행\n",
        "    (SELECT COUNT(*)\n",
        "    FROM LECTURE l\n",
        "    where t.type_id=l.lecture_type_id )\n",
        "    #강의id를 통해서 두 테이블에서 같은 강의에 대한 정보만\n",
        "    #가지고 와서 cnt\n",
        "FROM LECTURE_TYPE t\n",
        "order by type_id asc;"
      ],
      "metadata": {
        "id": "e8T2to-F3suR"
      },
      "execution_count": null,
      "outputs": []
    },
    {
      "cell_type": "code",
      "source": [
        "#퀴즈5 - from(다중 행,열 형태여야)"
      ],
      "metadata": {
        "id": "jujHvaHQ3nxe"
      },
      "execution_count": null,
      "outputs": []
    },
    {
      "cell_type": "code",
      "source": [
        "#실습 10\n",
        "-- 아래는 EMPLOYEE 테이블에 대한 구조를 보여줍니다. 테이블을 수정하실 필요는 없습니다.\n",
        "DESC EMPLOYEE;\n",
        "\n",
        "-- 1. 부서이름이 '개발'인 직원의 직원ID, 급여 정보를 가지는 뷰(EMPLOYEE_DEV)를 만드는 쿼리를 작성해봅시다.\n",
        "CREATE VIEW EMPLOYEE_DEV AS (\n",
        "  SELECT employee_id, salary\n",
        "  FROM EMPLOYEE\n",
        "  WHERE department_name = '개발'\n",
        ");\n",
        "\n",
        "-- 2. 위에서 만든 뷰(EMPLOYEE_DEV)의 모든 데이터를 조회하는 쿼리를 작성해봅시다.\n",
        "SELECT * FROM EMPLOYEE_DEV;"
      ],
      "metadata": {
        "id": "yJ7qVsCG4dPL"
      },
      "execution_count": null,
      "outputs": []
    },
    {
      "cell_type": "code",
      "source": [
        "#퀴즈6 - 4\n",
        "#퀴즈7 - replace"
      ],
      "metadata": {
        "id": "4jJTXnPl4dLT"
      },
      "execution_count": null,
      "outputs": []
    },
    {
      "cell_type": "code",
      "source": [
        "#미션1\n",
        "\n",
        "# -- 아래는 STORE 테이블에 대한 구조를 보여줍니다. 테이블을 수정하실 필요는 없습니다.\n",
        "DESC STORE;\n",
        "\n",
        "# -- 1. 남부 지역 가게들의 매출액을 조회하는 쿼리를 작성해봅시다.\n",
        "SELECT sales_amount\n",
        "FROM STORE\n",
        "WHERE store_location = '남부'\n",
        "ORDER BY sales_amount asc;\n",
        "\n",
        "\n",
        "# -- 2. 남부 지역의 모든 가게보다 매출이 높은 가게를 조회하는 쿼리를 작성해봅시다.\n",
        "SELECT store_id, store_name, store_location, sales_amount\n",
        "FROM STORE\n",
        "WHERE sales_amount > ALL(\n",
        "    SELECT sales_amount\n",
        "    FROM STORE\n",
        "    WHERE store_location = '남부')\n",
        "ORDER BY store_id asc;"
      ],
      "metadata": {
        "id": "m-tHibP_4vWZ"
      },
      "execution_count": null,
      "outputs": []
    },
    {
      "cell_type": "code",
      "source": [
        "#미션2\n",
        "\n",
        "# -- 아래는 ELICE_MART 테이블에 대한 구조를 보여줍니다. 테이블을 수정하실 필요는 없습니다.\n",
        "DESC ELICE_MART;\n",
        "DESC PRODUCT;\n",
        "\n",
        "# -- 1. ELICE_MART 에서 재고가 0인 상품에 대해 조회하는 쿼리를 작성하세요.\n",
        "SELECT product_id, product_name\n",
        "FROM ELICE_MART\n",
        "WHERE stock = 0\n",
        "ORDER BY product_id asc;\n",
        "\n",
        "# -- 2. ELICE_MART 에서는 재고가 0이고, PRODUCT 에서는 재고가 0 초과인 상품에 대해 조회하는 쿼리를 작성하세요.\n",
        "SELECT product_id, product_name\n",
        "FROM ELICE_MART\n",
        "WHERE stock = 0\n",
        "AND (product_id, product_name) IN (\n",
        "    SELECT product_id, product_name\n",
        "    FROM PRODUCT\n",
        "    WHERE stock > 0)\n",
        "ORDER BY product_id asc;\n"
      ],
      "metadata": {
        "id": "tSGtXtMY4vOi"
      },
      "execution_count": null,
      "outputs": []
    },
    {
      "cell_type": "code",
      "source": [
        "#미션3 ##############\n",
        "\n",
        "# 아래는 EMPLOYEE, DEPARTMENT 테이블에 대한 구조를 보여줍니다. 테이블을 수정하실 필요는 없습니다.\n",
        "DESC EMPLOYEE;\n",
        "DESC DEPARTMENT;\n",
        "\n",
        "# EMPLOYEE_DEPARTMENT 뷰를 만들고, 뷰의 모든 데이터를 조회하세요.\n",
        "CREATE VIEW EMPLOYEE_DEPARTMENT AS\n",
        "(\n",
        "  SELECT\n",
        "    employee_id,\n",
        "    employee_name,\n",
        "    salary,\n",
        "    E.department_id,\n",
        "    department_name\n",
        "  FROM\n",
        "    EMPLOYEE E\n",
        "  INNER JOIN\n",
        "    DEPARTMENT D\n",
        "  ON\n",
        "    E.department_id = D.department_id\n",
        ");\n",
        "\n",
        "SELECT * FROM EMPLOYEE_DEPARTMENT;"
      ],
      "metadata": {
        "id": "8t71aeKs47qa"
      },
      "execution_count": null,
      "outputs": []
    }
  ]
}